{
 "cells": [
  {
   "cell_type": "code",
   "execution_count": 1,
   "metadata": {},
   "outputs": [
    {
     "data": {
      "text/plain": [
       "'\\nDebt on average rose year on year. To account for this we looked at the YoY percentage change to better understand its fluctuation.  \\n\\nStarting with overall debt graph. Explain why we used percent changes\\n\\nDebt from 1987 to 2011 by type (many colors) to show the diffent types of debt looked at.\\n\\n*need to get mortgage rates\\n\\n'"
      ]
     },
     "execution_count": 1,
     "metadata": {},
     "output_type": "execute_result"
    }
   ],
   "source": [
    "\"\"\"\n",
    "Debt on average rose year on year. To account for this we looked at the YoY percentage change to better understand its fluctuation.  \n",
    "\n",
    "Starting with overall debt graph. Explain why we used percent changes\n",
    "\n",
    "Debt from 1987 to 2011 by type (many colors) to show the diffent types of debt looked at.\n",
    "\n",
    "*need to get mortgage rates\n",
    "\n",
    "\"\"\"\n"
   ]
  },
  {
   "cell_type": "code",
   "execution_count": null,
   "metadata": {},
   "outputs": [],
   "source": []
  }
 ],
 "metadata": {
  "kernelspec": {
   "display_name": "Python 3",
   "language": "python",
   "name": "python3"
  },
  "language_info": {
   "codemirror_mode": {
    "name": "ipython",
    "version": 3
   },
   "file_extension": ".py",
   "mimetype": "text/x-python",
   "name": "python",
   "nbconvert_exporter": "python",
   "pygments_lexer": "ipython3",
   "version": "3.6.5"
  }
 },
 "nbformat": 4,
 "nbformat_minor": 2
}
