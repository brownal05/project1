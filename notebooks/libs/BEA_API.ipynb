{
 "cells": [
  {
   "cell_type": "code",
   "execution_count": 2,
   "metadata": {},
   "outputs": [
    {
     "ename": "ModuleNotFoundError",
     "evalue": "No module named 'api_keys'",
     "output_type": "error",
     "traceback": [
      "\u001b[1;31m---------------------------------------------------------------------------\u001b[0m",
      "\u001b[1;31mModuleNotFoundError\u001b[0m                       Traceback (most recent call last)",
      "\u001b[1;32m<ipython-input-2-b5904b432027>\u001b[0m in \u001b[0;36m<module>\u001b[1;34m()\u001b[0m\n\u001b[0;32m      4\u001b[0m \u001b[1;32mimport\u001b[0m \u001b[0mjson\u001b[0m\u001b[1;33m\u001b[0m\u001b[0m\n\u001b[0;32m      5\u001b[0m \u001b[1;32mfrom\u001b[0m \u001b[0mpprint\u001b[0m \u001b[1;32mimport\u001b[0m \u001b[0mpprint\u001b[0m\u001b[1;33m\u001b[0m\u001b[0m\n\u001b[1;32m----> 6\u001b[1;33m \u001b[1;32mfrom\u001b[0m \u001b[0mapi_keys\u001b[0m \u001b[1;32mimport\u001b[0m \u001b[0mbea_api\u001b[0m\u001b[1;33m\u001b[0m\u001b[0m\n\u001b[0m\u001b[0;32m      7\u001b[0m \u001b[0mapi_key\u001b[0m \u001b[1;33m=\u001b[0m \u001b[0mbea_api\u001b[0m\u001b[1;33m\u001b[0m\u001b[0m\n\u001b[0;32m      8\u001b[0m \u001b[0mmethod\u001b[0m \u001b[1;33m=\u001b[0m \u001b[1;33m(\u001b[0m\u001b[1;34m\"GetData\"\u001b[0m\u001b[1;33m,\u001b[0m \u001b[1;34m\"GetParameterList\"\u001b[0m\u001b[1;33m,\u001b[0m \u001b[1;34m\"GETDATASETLIST\"\u001b[0m\u001b[1;33m,\u001b[0m \u001b[1;34m\"GetParameterValues\"\u001b[0m\u001b[1;33m)\u001b[0m\u001b[1;33m\u001b[0m\u001b[0m\n",
      "\u001b[1;31mModuleNotFoundError\u001b[0m: No module named 'api_keys'"
     ]
    }
   ],
   "source": [
    "import numpy as np\n",
    "import pandas as pd\n",
    "import requests\n",
    "import json\n",
    "from pprint import pprint\n",
    "from api_keys import bea_api\n",
    "api_key = bea_api\n",
    "method = (\"GetData\", \"GetParameterList\", \"GETDATASETLIST\", \"GetParameterValues\")\n",
    "get_data = []\n",
    "dataset = []\n",
    "parameter_name = \"TableName\"\n",
    "target = \"LineCode\"\n",
    "geofip = \"STATE\"\n",
    "table_name = \"\"\n",
    "line_code = \"53\"\n",
    "year = \"ALL\"\n",
    "list_url = (f\"https://apps.bea.gov/api/data?&UserID={api_key}&method={method}&datasetname={dataset}&TargetParameter={target}&TableName={table_name}\")\n",
    "#&ParameterName={parameter_name}\n",
    "#url = (f\"https://apps.bea.gov/api/data?&UserID={api_key}&method={get_data}&datasetname={dataset}&LineCode={line_code}&TableName={table_name}&GeoFIPS={geofip}&Year={year}\")\n",
    "url = (f\"https://apps.bea.gov/api/data?&UserID={api_key}&method=\")\n",
    "#SAINC51\n",
    "#response = requests.get(url).json()       \n",
    "#list_response = requests.get(list_url).json()\n"
   ]
  },
  {
   "cell_type": "code",
   "execution_count": null,
   "metadata": {},
   "outputs": [],
   "source": [
    "data_set_names = ({\n",
    "             'Standard NIPA tables': 'NIPA',\n",
    "             'Standard NI underlying detail tables' : 'NIUnderlyingDetail',\n",
    "             'Multinational Enterprises': 'MNE',\n",
    "             'Standard Fixed Assets tables' : 'FixedAssets',\n",
    "             'International Transactions Accounts' : 'ITA',\n",
    "             'International Investment Position': 'IIP',\n",
    "             'GDP by Industry' : 'GDPbyIndustry',\n",
    "             'Regional Income data sets' : 'RegionalIncome',\n",
    "             'Regional Product data sets' : 'RegionalProduct',\n",
    "             'Input-Output Data' : 'InputOutput',\n",
    "             'Underlying GDP by Industry': 'UnderlyingGDPbyIndustry',\n",
    "              'International Services Trade': 'IntlServTrade',\n",
    "             'Regional data sets': 'Regional',\n",
    "              'Metadata about other API datasets' : 'APIDatasetMetaData'})\n",
    "\n",
    "data_set_names = pd.DataFrame([data_set_names])\n",
    "data_set_names.to_csv(\"data_set_names.csv\")  \n",
    "    "
   ]
  },
  {
   "cell_type": "code",
   "execution_count": null,
   "metadata": {},
   "outputs": [],
   "source": [
    "\n",
    "def parameters(x, y, view=False, csv=False):   \n",
    "    count =+1\n",
    "    paras = []\n",
    "    parameter_values = (x)\n",
    "    data_set = (y)\n",
    "\n",
    "    try:\n",
    "        response = requests.get(f\"{url}{method[3]}&datasetname={data_set}&ParameterName={parameter_values}\").json() \n",
    "        paras.append(response[\"BEAAPI\"][\"Results\"][\"ParamValue\"])\n",
    "        if view == True:\n",
    "            pprint(response[\"BEAAPI\"][\"Results\"][\"ParamValue\"])\n",
    "        elif csv == True:\n",
    "            paras = pd.DataFrame(paras)\n",
    "            paras.to_csv(\"output.csv\")  \n",
    "        else:\n",
    "            print(f\"Parameters Retrived\")\n",
    "\n",
    "        response = requests.get(f\"{url}{method[3]}&datasetname=data_set&ParameterName={parameter_values}\").json() \n",
    "        paras.append(response[\"BEAAPI\"][\"Results\"][\"ParamValue\"])\n",
    "        if view == True:\n",
    "            pprint(response[\"BEAAPI\"][\"Results\"][\"ParamValue\"])\n",
    "        elif csv == True:\n",
    "            paras = pd.DataFrame(paras)\n",
    "            paras.to_csv(\"output.csv\")  \n",
    "        else:\n",
    "            print(f\"Parameters Retrived\")      \n",
    "            response = requests.get(f\"{url}{method[1]}&datasetname={parameter_values}\").json() \n",
    "            paras.append(response[\"BEAAPI\"][\"Results\"][\"Parameter\"])\n",
    "        if view == True:\n",
    "            pprint(response[\"BEAAPI\"][\"Results\"][\"Parameter\"])\n",
    "        elif csv == True:\n",
    "            paras = pd.DataFrame(paras)\n",
    "            paras.to_csv(\"output.csv\")  \n",
    "        else:\n",
    "            print(f\"Parameters Retrived\")    \n",
    "        \n",
    "    except:\n",
    "            print(\"Error\")\n",
    "    return\n",
    "    \n",
    "\n",
    "          "
   ]
  },
  {
   "cell_type": "code",
   "execution_count": null,
   "metadata": {},
   "outputs": [],
   "source": [
    "\n"
   ]
  },
  {
   "cell_type": "code",
   "execution_count": null,
   "metadata": {},
   "outputs": [],
   "source": []
  },
  {
   "cell_type": "code",
   "execution_count": 153,
   "metadata": {},
   "outputs": [],
   "source": [
    "#API Data Pull Function\n",
    "#https://apps.bea.gov/api/data/?&UserID=Your-36Character-Key&method=GetData&datasetname=Regional&TableName=CAINC1&LineCode=3&GeoFIPS=DE&Year=2014&ResultFormat=XML\n",
    "def beadata(data_set, table, linecode, geofibs , year, view=False, csv=False):\n",
    "    tablename = (table)\n",
    "    linecode = (linecode)\n",
    "    geofips = (geofibs)\n",
    "    year = (year)\n",
    "    data_set = (data_set)\n",
    "    output = []\n",
    "    \n",
    "\n",
    "    try:\n",
    "        response = requests.get(f\"{url}{method[0]}&datasetname={data_set}&TableName={tablename}&LineCode={linecode}&GeoFIPS={geofips}&Year={year}\").json() \n",
    "        output.append(response[\"BEAAPI\"][\"Results\"][\"Data\"])\n",
    "        if view == True:\n",
    "            pprint(response[\"BEAAPI\"][\"Results\"][\"Data\"])\n",
    "        elif csv == True:\n",
    "            results = pd.DataFrame(output)\n",
    "            results = results.T\n",
    "            results.to_csv(\"output.csv\")  \n",
    "        else:\n",
    "            print(f\"Parameters Retrived\")\n",
    "    except:\n",
    "        print(\"error\")\n",
    "        return\n",
    "    \n"
   ]
  },
  {
   "cell_type": "code",
   "execution_count": 154,
   "metadata": {},
   "outputs": [],
   "source": [
    "beadata(\"Regional\", \"CAINC1\", \"1\", \"ME\", \"2014\", csv=True )\n"
   ]
  },
  {
   "cell_type": "code",
   "execution_count": 156,
   "metadata": {},
   "outputs": [
    {
     "ename": "TypeError",
     "evalue": "the JSON object must be str, bytes or bytearray, not 'Response'",
     "output_type": "error",
     "traceback": [
      "\u001b[1;31m---------------------------------------------------------------------------\u001b[0m",
      "\u001b[1;31mTypeError\u001b[0m                                 Traceback (most recent call last)",
      "\u001b[1;32m<ipython-input-156-f52360bd5231>\u001b[0m in \u001b[0;36m<module>\u001b[1;34m()\u001b[0m\n\u001b[0;32m      2\u001b[0m \u001b[0mresponse\u001b[0m \u001b[1;33m=\u001b[0m \u001b[0mrequests\u001b[0m\u001b[1;33m.\u001b[0m\u001b[0mget\u001b[0m\u001b[1;33m(\u001b[0m\u001b[1;34mf\"{url}{method[0]}&datasetname=Regional&TableName=CAINC1&LineCode=1&GeoFIPS=ME&Year=2014\"\u001b[0m\u001b[1;33m)\u001b[0m\u001b[1;33m\u001b[0m\u001b[0m\n\u001b[0;32m      3\u001b[0m \u001b[1;31m#output  = (response[\"BEAAPI\"][\"Results\"][\"Data\"])\u001b[0m\u001b[1;33m\u001b[0m\u001b[1;33m\u001b[0m\u001b[0m\n\u001b[1;32m----> 4\u001b[1;33m \u001b[0mresults\u001b[0m \u001b[1;33m=\u001b[0m \u001b[0mjson\u001b[0m\u001b[1;33m.\u001b[0m\u001b[0mloads\u001b[0m\u001b[1;33m(\u001b[0m\u001b[0mresponse\u001b[0m\u001b[1;33m)\u001b[0m\u001b[1;33m\u001b[0m\u001b[0m\n\u001b[0m\u001b[0;32m      5\u001b[0m \u001b[1;31m#results = pd.DataFrame(output)\u001b[0m\u001b[1;33m\u001b[0m\u001b[1;33m\u001b[0m\u001b[0m\n\u001b[0;32m      6\u001b[0m \u001b[1;33m\u001b[0m\u001b[0m\n",
      "\u001b[1;32mC:\\Program Files (x86)\\Microsoft Visual Studio\\Shared\\Anaconda3_64\\lib\\json\\__init__.py\u001b[0m in \u001b[0;36mloads\u001b[1;34m(s, encoding, cls, object_hook, parse_float, parse_int, parse_constant, object_pairs_hook, **kw)\u001b[0m\n\u001b[0;32m    346\u001b[0m         \u001b[1;32mif\u001b[0m \u001b[1;32mnot\u001b[0m \u001b[0misinstance\u001b[0m\u001b[1;33m(\u001b[0m\u001b[0ms\u001b[0m\u001b[1;33m,\u001b[0m \u001b[1;33m(\u001b[0m\u001b[0mbytes\u001b[0m\u001b[1;33m,\u001b[0m \u001b[0mbytearray\u001b[0m\u001b[1;33m)\u001b[0m\u001b[1;33m)\u001b[0m\u001b[1;33m:\u001b[0m\u001b[1;33m\u001b[0m\u001b[0m\n\u001b[0;32m    347\u001b[0m             raise TypeError('the JSON object must be str, bytes or bytearray, '\n\u001b[1;32m--> 348\u001b[1;33m                             'not {!r}'.format(s.__class__.__name__))\n\u001b[0m\u001b[0;32m    349\u001b[0m         \u001b[0ms\u001b[0m \u001b[1;33m=\u001b[0m \u001b[0ms\u001b[0m\u001b[1;33m.\u001b[0m\u001b[0mdecode\u001b[0m\u001b[1;33m(\u001b[0m\u001b[0mdetect_encoding\u001b[0m\u001b[1;33m(\u001b[0m\u001b[0ms\u001b[0m\u001b[1;33m)\u001b[0m\u001b[1;33m,\u001b[0m \u001b[1;34m'surrogatepass'\u001b[0m\u001b[1;33m)\u001b[0m\u001b[1;33m\u001b[0m\u001b[0m\n\u001b[0;32m    350\u001b[0m \u001b[1;33m\u001b[0m\u001b[0m\n",
      "\u001b[1;31mTypeError\u001b[0m: the JSON object must be str, bytes or bytearray, not 'Response'"
     ]
    }
   ],
   "source": [
    "output = []\n",
    "response = requests.get(f\"{url}{method[0]}&datasetname=Regional&TableName=CAINC1&LineCode=1&GeoFIPS=ME&Year=2014\")\n",
    "#output  = (response[\"BEAAPI\"][\"Results\"][\"Data\"])\n",
    "results = json.loads(response)\n",
    "#results = pd.DataFrame(output)\n",
    "\n",
    "results.to_csv(\"test.csv\")  \n"
   ]
  },
  {
   "cell_type": "code",
   "execution_count": 159,
   "metadata": {},
   "outputs": [
    {
     "name": "stdout",
     "output_type": "stream",
     "text": [
      "https://apps.bea.gov/api/data?&UserID=1BC99EDB-AA8F-4A2A-83A9-8B7AACD482C2&method=GetData&datasetname=Regional&TableName=CAINC1&LineCode=1&GeoFIPS=ME&Year=2014\n"
     ]
    }
   ],
   "source": [
    "#response = requests.get(f\"{url}{method[0]}&datasetname=Regional&TableName=CAINC1&LineCode=1&GeoFIPS=ME&Year=2014\")\n",
    "#response\n",
    "print(f\"{url}{method[0]}&datasetname=Regional&TableName=CAINC1&LineCode=1&GeoFIPS=ME&Year=2014\")"
   ]
  },
  {
   "cell_type": "code",
   "execution_count": 143,
   "metadata": {},
   "outputs": [
    {
     "name": "stdout",
     "output_type": "stream",
     "text": [
      "None\n",
      "None\n",
      "None\n",
      "None\n",
      "None\n",
      "None\n",
      "None\n",
      "None\n",
      "None\n",
      "None\n",
      "None\n",
      "None\n",
      "None\n",
      "None\n",
      "None\n",
      "None\n",
      "None\n",
      "None\n",
      "None\n",
      "None\n",
      "None\n",
      "None\n",
      "None\n",
      "None\n",
      "None\n",
      "None\n",
      "None\n",
      "None\n",
      "None\n",
      "None\n",
      "None\n",
      "None\n",
      "None\n",
      "None\n",
      "None\n",
      "None\n",
      "None\n",
      "None\n",
      "None\n",
      "None\n",
      "None\n",
      "None\n",
      "None\n",
      "None\n",
      "None\n",
      "None\n",
      "None\n",
      "None\n",
      "None\n",
      "None\n",
      "None\n"
     ]
    }
   ],
   "source": [
    "states = [\"AL\", \"AK\", \"AZ\", \"AR\", \"CA\", \"CO\", \"CT\", \"DC\", \"DE\", \"FL\", \"GA\", \n",
    "          \"HI\", \"ID\", \"IL\", \"IN\", \"IA\", \"KS\", \"KY\", \"LA\", \"ME\", \"MD\", \n",
    "          \"MA\", \"MI\", \"MN\", \"MS\", \"MO\", \"MT\", \"NE\", \"NV\", \"NH\", \"NJ\", \n",
    "          \"NM\", \"NY\", \"NC\", \"ND\", \"OH\", \"OK\", \"OR\", \"PA\", \"RI\", \"SC\", \n",
    "          \"SD\", \"TN\", \"TX\", \"UT\", \"VT\", \"VA\", \"WA\", \"WV\", \"WI\", \"WY\"]\n",
    "         \n",
    "for state in states:\n",
    "    out = beadata(\"CAINC1\", \"1\", (state), \"2014\", view=False, csv=True )\n",
    "    print(out)\n"
   ]
  },
  {
   "cell_type": "code",
   "execution_count": 142,
   "metadata": {},
   "outputs": [
    {
     "name": "stdout",
     "output_type": "stream",
     "text": [
      "[None]\n"
     ]
    }
   ],
   "source": []
  },
  {
   "cell_type": "code",
   "execution_count": null,
   "metadata": {},
   "outputs": [],
   "source": []
  }
 ],
 "metadata": {
  "kernelspec": {
   "display_name": "Python 3",
   "language": "python",
   "name": "python3"
  },
  "language_info": {
   "codemirror_mode": {
    "name": "ipython",
    "version": 3
   },
   "file_extension": ".py",
   "mimetype": "text/x-python",
   "name": "python",
   "nbconvert_exporter": "python",
   "pygments_lexer": "ipython3",
   "version": "3.6.5"
  }
 },
 "nbformat": 4,
 "nbformat_minor": 2
}
