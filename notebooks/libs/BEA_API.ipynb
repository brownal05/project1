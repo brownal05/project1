{
 "cells": [
  {
   "cell_type": "code",
   "execution_count": 1,
   "metadata": {},
   "outputs": [],
   "source": [
    "import numpy as np\n",
    "import pandas as pd\n",
    "import requests\n",
    "import json\n",
    "from pprint import pprint\n",
    "import api_keys\n",
    "api_key = api_keys.bea_key\n",
    "method = (\"GetData\", \"GetParameterList\", \"GETDATASETLIST\", \"GetParameterValues\")\n",
    "get_data = []\n",
    "dataset = []\n",
    "parameter_name = \"TableName\"\n",
    "target = \"LineCode\"\n",
    "geofip = \"STATE\"\n",
    "table_name = \"\"\n",
    "line_code = \"53\"\n",
    "year = \"ALL\"\n",
    "list_url = (f\"https://apps.bea.gov/api/data?&UserID={api_key}&method={method}&datasetname={dataset}&TargetParameter={target}&TableName={table_name}\")\n",
    "#&ParameterName={parameter_name}\n",
    "#url = (f\"https://apps.bea.gov/api/data?&UserID={api_key}&method={get_data}&datasetname={dataset}&LineCode={line_code}&TableName={table_name}&GeoFIPS={geofip}&Year={year}\")\n",
    "url = (f\"https://apps.bea.gov/api/data?&UserID={api_key}&method=\")\n",
    "#SAINC51\n",
    "#response = requests.get(url).json()       \n",
    "#list_response = requests.get(list_url).json()"
   ]
  },
  {
   "cell_type": "code",
   "execution_count": 2,
   "metadata": {},
   "outputs": [],
   "source": [
    "data_set_names = ({\n",
    "             'Standard NIPA tables': 'NIPA',\n",
    "             'Standard NI underlying detail tables' : 'NIUnderlyingDetail',\n",
    "             'Multinational Enterprises': 'MNE',\n",
    "             'Standard Fixed Assets tables' : 'FixedAssets',\n",
    "             'International Transactions Accounts' : 'ITA',\n",
    "             'International Investment Position': 'IIP',\n",
    "             'GDP by Industry' : 'GDPbyIndustry',\n",
    "             'Regional Income data sets' : 'RegionalIncome',\n",
    "             'Regional Product data sets' : 'RegionalProduct',\n",
    "             'Input-Output Data' : 'InputOutput',\n",
    "             'Underlying GDP by Industry': 'UnderlyingGDPbyIndustry',\n",
    "              'International Services Trade': 'IntlServTrade',\n",
    "             'Regional data sets': 'Regional',\n",
    "              'Metadata about other API datasets' : 'APIDatasetMetaData'})\n",
    "\n",
    "data_set_names = pd.DataFrame([data_set_names])\n",
    "data_set_names.to_csv(\"data_set_names.csv\")"
   ]
  },
  {
   "cell_type": "code",
   "execution_count": 3,
   "metadata": {},
   "outputs": [],
   "source": [
    "def parameters(x, y, view=False, csv=False):   \n",
    "    count =+1\n",
    "    paras = []\n",
    "    parameter_values = (x)\n",
    "    data_set = (y)\n",
    "\n",
    "    try:\n",
    "        response = requests.get(f\"{url}{method[3]}&datasetname={data_set}&ParameterName={parameter_values}\").json() \n",
    "        paras.append(response[\"BEAAPI\"][\"Results\"][\"ParamValue\"])\n",
    "        if view == True:\n",
    "            pprint(response[\"BEAAPI\"][\"Results\"][\"ParamValue\"])\n",
    "        elif csv == True:\n",
    "            paras = pd.DataFrame(paras)\n",
    "            paras.to_csv(\"output.csv\")  \n",
    "            print(\"output.csv uploaded\")\n",
    "        else:\n",
    "            print(f\"{parameter_values} Values Retrived\")\n",
    "    except:\n",
    "        try:\n",
    "            response = requests.get(f\"{url}{method[3]}&datasetname={data_set}&ParameterName={parameter_values}\").json() \n",
    "            paras.append(response[\"BEAAPI\"][\"Results\"][\"ParamValue\"])\n",
    "            if view == True:\n",
    "                pprint(response[\"BEAAPI\"][\"Results\"][\"ParamValue\"])\n",
    "            elif csv == True:\n",
    "                paras = pd.DataFrame(paras)\n",
    "                paras.to_csv(\"output.csv\")  \n",
    "            else:\n",
    "                print(f\"{parameter_values} List Retrived\")  \n",
    "        except:   \n",
    "            try:\n",
    "                response = requests.get(f\"{url}{method[1]}&datasetname={data_set}\").json() \n",
    "                paras.append(response[\"BEAAPI\"][\"Results\"][\"Parameter\"])\n",
    "                print(f\"{parameter_values} List Retrived\")  \n",
    "                if view == True:\n",
    "                    pprint(response[\"BEAAPI\"][\"Results\"][\"Parameter\"])\n",
    "                elif csv == True:\n",
    "                    paras = pd.DataFrame(paras)\n",
    "                    paras.to_csv(\"output.csv\")  \n",
    "                else:\n",
    "                    print(f\"{data_set} List Retrived\")      \n",
    "            except:\n",
    "                print(response)\n",
    "    return"
   ]
  },
  {
   "cell_type": "code",
   "execution_count": 4,
   "metadata": {},
   "outputs": [
    {
     "name": "stdout",
     "output_type": "stream",
     "text": [
      "Regional List Retrived\n",
      "[{'MultipleAcceptedFlag': '1',\n",
      "  'ParameterDataType': 'string',\n",
      "  'ParameterDescription': 'Comma-delimited list of 5-character geographic '\n",
      "                          'codes; COUNTY for all counties, STATE for all '\n",
      "                          'states, MSA for all MSAs, MIC for all Micropolitan '\n",
      "                          'Areas, PORT for all state metro/nonmetro portions, '\n",
      "                          'DIV for all Metropolitan Divisions, CSA for all '\n",
      "                          'Combined Statistical Areas, state post office '\n",
      "                          'abbreviation for all counties in one state (e.g. '\n",
      "                          'NY)',\n",
      "  'ParameterIsRequiredFlag': '1',\n",
      "  'ParameterName': 'GeoFips'},\n",
      " {'MultipleAcceptedFlag': '0',\n",
      "  'ParameterDataType': 'integer',\n",
      "  'ParameterDescription': 'Line code for a statistic or industry',\n",
      "  'ParameterIsRequiredFlag': '1',\n",
      "  'ParameterName': 'LineCode'},\n",
      " {'MultipleAcceptedFlag': '0',\n",
      "  'ParameterDataType': 'string',\n",
      "  'ParameterDefaultValue': '',\n",
      "  'ParameterDescription': 'Regional income or product table to retrieve',\n",
      "  'ParameterIsRequiredFlag': '1',\n",
      "  'ParameterName': 'TableName'},\n",
      " {'MultipleAcceptedFlag': '1',\n",
      "  'ParameterDataType': 'string',\n",
      "  'ParameterDefaultValue': 'LAST5',\n",
      "  'ParameterDescription': 'Comma-delimted list of years; LAST5 for latest 5 '\n",
      "                          'years; LAST10 for latest 10 years; ALL for all '\n",
      "                          'years',\n",
      "  'ParameterIsRequiredFlag': '0',\n",
      "  'ParameterName': 'Year'}]\n"
     ]
    }
   ],
   "source": [
    "parameters(\"Regional\", \"Regional\", view = True )"
   ]
  },
  {
   "cell_type": "code",
   "execution_count": 8,
   "metadata": {},
   "outputs": [],
   "source": [
    "#API Data Pull Function\n",
    "#https://apps.bea.gov/api/data/?&UserID=Your-36Character-Key&method=GetData&datasetname=Regional&TableName=CAINC1&LineCode=3&GeoFIPS=DE&Year=2014&ResultFormat=XML\n",
    "\n",
    "def beadata(data_set, table, linecode, year, view=False, csv=False): #   var taken out\n",
    "    tablename = (table)\n",
    "    linecode = (linecode)\n",
    "#    geofips = (geofibs)\n",
    "    year = (year)\n",
    "    data_set = (data_set)\n",
    "    geo = []\n",
    "    value = []\n",
    "\n",
    "    states = [\"AL\", \"AK\", \"AZ\", \"AR\", \"CA\", \"CO\", \"CT\", \"DC\", \"DE\", \"FL\", \"GA\", \n",
    "          \"HI\", \"ID\", \"IL\", \"IN\", \"IA\", \"KS\", \"KY\", \"LA\", \"ME\", \"MD\", \n",
    "          \"MA\", \"MI\", \"MN\", \"MS\", \"MO\", \"MT\", \"NE\", \"NV\", \"NH\", \"NJ\", \n",
    "          \"NM\", \"NY\", \"NC\", \"ND\", \"OH\", \"OK\", \"OR\", \"PA\", \"RI\", \"SC\", \n",
    "          \"SD\", \"TN\", \"TX\", \"UT\", \"VT\", \"VA\", \"WA\", \"WV\", \"WI\", \"WY\"]\n",
    " \n",
    "    \n",
    "    for state in states:\n",
    "        response = requests.get(f\"{url}{method[0]}&datasetname={data_set}&TableName={tablename}&LineCode={linecode}&GeoFIPS={state}&Year={year}\").json()        \n",
    "        try:\n",
    "            geo.append(response[\"BEAAPI\"][\"Results\"][\"Data\"][\"GeoName\"])\n",
    "            value.append(response[\"BEAAPI\"][\"Results\"][\"Data\"][\"DataValue\"])\n",
    "  \n",
    "        except:\n",
    "            pprint(response)\n",
    "        \n",
    "    if csv == True:\n",
    "        out_df.to_csv(\"output.csv\")\n",
    "    \n",
    "    out_df = pd.DataFrame({\"State\" :geo,\n",
    "                          \"Value\":value,\n",
    "                          \"Year\":year})\n",
    "    return out_df\n",
    "    \n"
   ]
  },
  {
   "cell_type": "code",
   "execution_count": 6,
   "metadata": {},
   "outputs": [],
   "source": [
    "\n",
    "#mm_state_income = beadata(\"Regional\", \"SAINC1\", \"1\", states, \"ALL\", csv=True)\n",
    "#response = requests.get(f\"{url}{method[0]}&datasetname=Regional&TableName=SAINC1&LineCode=1&GeoFIPS=ME&Year=2014\").json() \n",
    "#search =response[\"BEAAPI\"][\"Results\"][\"Data\"]\n",
    "#response[\"BEAAPI\"][\"Results\"][\"Data\"][\"DataValue\"]\n",
    "years = [1999, 1998, 2000,2001,2002,2003,2005,2006,2007,2008,2009,2010,2011]\n",
    "for year in years:\n",
    "    out_df = beadata(\"Regional\", \"SAINC1\", \"1\", year)\n",
    "    out_df.to_csv(f\"{year}_income.csv\")"
   ]
  },
  {
   "cell_type": "code",
   "execution_count": null,
   "metadata": {},
   "outputs": [],
   "source": []
  },
  {
   "cell_type": "code",
   "execution_count": 7,
   "metadata": {},
   "outputs": [],
   "source": [
    "#response = requests.get(f\"{url}{method[0]}&datasetname=Regional&TableName=CAINC1&LineCode=1&GeoFIPS=ME&Year=2014\")\n",
    "#response\n",
    "#print(f\"{url}{method[0]}&datasetname=Regional&TableName=CAINC1&LineCode=1&GeoFIPS=ME&Year=2014\")\n",
    "#beadata(\"Regional\", \"CAINC1\", \"1\", \"AL\", \"2014\", view=True, csv=False )\n"
   ]
  },
  {
   "cell_type": "code",
   "execution_count": null,
   "metadata": {},
   "outputs": [],
   "source": []
  },
  {
   "cell_type": "code",
   "execution_count": null,
   "metadata": {},
   "outputs": [],
   "source": []
  },
  {
   "cell_type": "code",
   "execution_count": null,
   "metadata": {},
   "outputs": [],
   "source": []
  },
  {
   "cell_type": "code",
   "execution_count": null,
   "metadata": {},
   "outputs": [],
   "source": []
  }
 ],
 "metadata": {
  "kernelspec": {
   "display_name": "Python 3",
   "language": "python",
   "name": "python3"
  },
  "language_info": {
   "codemirror_mode": {
    "name": "ipython",
    "version": 3
   },
   "file_extension": ".py",
   "mimetype": "text/x-python",
   "name": "python",
   "nbconvert_exporter": "python",
   "pygments_lexer": "ipython3",
   "version": "3.6.5"
  }
 },
 "nbformat": 4,
 "nbformat_minor": 2
}
