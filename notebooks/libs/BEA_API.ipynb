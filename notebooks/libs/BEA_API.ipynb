{
 "cells": [
  {
   "cell_type": "code",
   "execution_count": 1,
   "metadata": {},
   "outputs": [],
   "source": [
    "import numpy as np\n",
    "import pandas as pd\n",
    "import requests\n",
    "import json\n",
    "from pprint import pprint\n",
    "from api_keys import bea_api\n",
    "api_key = bea_api\n",
    "method = (\"GetData\", \"GetParameterList\", \"GETDATASETLIST\", \"GetParameterValues\")\n",
    "get_data = []\n",
    "dataset = []\n",
    "parameter_name = \"TableName\"\n",
    "target = \"LineCode\"\n",
    "geofip = \"STATE\"\n",
    "table_name = \"\"\n",
    "line_code = \"53\"\n",
    "year = \"ALL\"\n",
    "list_url = (f\"https://apps.bea.gov/api/data?&UserID={api_key}&method={method}&datasetname={dataset}&TargetParameter={target}&TableName={table_name}\")\n",
    "#&ParameterName={parameter_name}\n",
    "#url = (f\"https://apps.bea.gov/api/data?&UserID={api_key}&method={get_data}&datasetname={dataset}&LineCode={line_code}&TableName={table_name}&GeoFIPS={geofip}&Year={year}\")\n",
    "url = (f\"https://apps.bea.gov/api/data?&UserID={api_key}&method=\")\n",
    "#SAINC51\n",
    "#response = requests.get(url).json()       \n",
    "#list_response = requests.get(list_url).json()"
   ]
  },
  {
   "cell_type": "code",
   "execution_count": 2,
   "metadata": {},
   "outputs": [],
   "source": [
    "data_set_names = ({\n",
    "             'Standard NIPA tables': 'NIPA',\n",
    "             'Standard NI underlying detail tables' : 'NIUnderlyingDetail',\n",
    "             'Multinational Enterprises': 'MNE',\n",
    "             'Standard Fixed Assets tables' : 'FixedAssets',\n",
    "             'International Transactions Accounts' : 'ITA',\n",
    "             'International Investment Position': 'IIP',\n",
    "             'GDP by Industry' : 'GDPbyIndustry',\n",
    "             'Regional Income data sets' : 'RegionalIncome',\n",
    "             'Regional Product data sets' : 'RegionalProduct',\n",
    "             'Input-Output Data' : 'InputOutput',\n",
    "             'Underlying GDP by Industry': 'UnderlyingGDPbyIndustry',\n",
    "              'International Services Trade': 'IntlServTrade',\n",
    "             'Regional data sets': 'Regional',\n",
    "              'Metadata about other API datasets' : 'APIDatasetMetaData'})\n",
    "\n",
    "data_set_names = pd.DataFrame([data_set_names])\n",
    "data_set_names.to_csv(\"data_set_names.csv\")  \n",
    "    "
   ]
  },
  {
   "cell_type": "code",
   "execution_count": 3,
   "metadata": {},
   "outputs": [],
   "source": [
    "\n",
    "def parameters(x, view=False, csv=False):   \n",
    "    count =+1\n",
    "    paras = []\n",
    "    parameter_values = (x)\n",
    "\n",
    "    try:\n",
    "        response = requests.get(f\"{url}{method[3]}&datasetname=Regional&ParameterName={parameter_values}\").json() \n",
    "        paras.append(response[\"BEAAPI\"][\"Results\"][\"ParamValue\"])\n",
    "        if view == True:\n",
    "            pprint(response[\"BEAAPI\"][\"Results\"][\"ParamValue\"])\n",
    "        elif csv == True:\n",
    "            paras = pd.DataFrame(paras)\n",
    "            paras.to_csv(\"output.csv\")  \n",
    "        else:\n",
    "            print(f\"Parameters Retrived\")\n",
    "\n",
    "        response = requests.get(f\"{url}{method[3]}&datasetname=Regional&ParameterName={parameter_values}\").json() \n",
    "        paras.append(response[\"BEAAPI\"][\"Results\"][\"ParamValue\"])\n",
    "        if view == True:\n",
    "            pprint(response[\"BEAAPI\"][\"Results\"][\"ParamValue\"])\n",
    "        elif csv == True:\n",
    "            paras = pd.DataFrame(paras)\n",
    "            paras.to_csv(\"output.csv\")  \n",
    "        else:\n",
    "            print(f\"Parameters Retrived\")\n",
    "            \n",
    "    except:\n",
    "        response = requests.get(f\"{url}{method[1]}&datasetname={parameter_values}\").json() \n",
    "        paras.append(response[\"BEAAPI\"][\"Results\"][\"Parameter\"])\n",
    "        if view == True:\n",
    "            pprint(response[\"BEAAPI\"][\"Results\"][\"Parameter\"])\n",
    "        elif csv == True:\n",
    "            paras = pd.DataFrame(paras)\n",
    "            paras.to_csv(\"output.csv\")  \n",
    "        else:\n",
    "            print(f\"Parameters Retrived\") \n",
    "    return\n",
    "    \n",
    "\n",
    "          "
   ]
  },
  {
   "cell_type": "code",
   "execution_count": null,
   "metadata": {},
   "outputs": [],
   "source": [
    "\n"
   ]
  },
  {
   "cell_type": "code",
   "execution_count": 4,
   "metadata": {},
   "outputs": [],
   "source": [
    "#API Data Pull Function\n",
    "#https://apps.bea.gov/api/data/?&UserID=Your-36Character-Key&method=GetData&datasetname=Regional&TableName=CAINC1&LineCode=3&GeoFIPS=DE&Year=2014&ResultFormat=XML\n",
    "def beadata(table, linecode, geofibs , year, view=False, csv=True):\n",
    "    tablename = (table)\n",
    "    linecode = (linecode)\n",
    "    geofips = (geofibs)\n",
    "    year = (year)\n",
    "    output = []\n",
    "    \n",
    "\n",
    "    try:\n",
    "        response = requests.get(f\"{url}{method[0]}&datasetname=Regional&TableName={tablename}&LineCode={linecode}&GeoFIPS={geofips}&Year={year}\").json() \n",
    "        output.append(response[\"BEAAPI\"][\"Results\"][\"Data\"][0])\n",
    "        if view == True:\n",
    "            pprint(response[\"BEAAPI\"][\"Results\"][\"Data\"][0])\n",
    "        elif csv == True:\n",
    "            results = pd.DataFrame(output)\n",
    "            results.to_csv(\"output.csv\")  \n",
    "        else:\n",
    "            print(f\"Parameters Retrived\")\n",
    "    except:\n",
    "        print(\"error\")\n",
    "        return\n",
    "    \n"
   ]
  },
  {
   "cell_type": "code",
   "execution_count": 5,
   "metadata": {},
   "outputs": [],
   "source": [
    "beadata(\"CAINC1\", \"1\", \"DE\", \"2014\", view=False, csv=True )\n"
   ]
  },
  {
   "cell_type": "code",
   "execution_count": 143,
   "metadata": {},
   "outputs": [
    {
     "name": "stdout",
     "output_type": "stream",
     "text": [
      "None\n",
      "None\n",
      "None\n",
      "None\n",
      "None\n",
      "None\n",
      "None\n",
      "None\n",
      "None\n",
      "None\n",
      "None\n",
      "None\n",
      "None\n",
      "None\n",
      "None\n",
      "None\n",
      "None\n",
      "None\n",
      "None\n",
      "None\n",
      "None\n",
      "None\n",
      "None\n",
      "None\n",
      "None\n",
      "None\n",
      "None\n",
      "None\n",
      "None\n",
      "None\n",
      "None\n",
      "None\n",
      "None\n",
      "None\n",
      "None\n",
      "None\n",
      "None\n",
      "None\n",
      "None\n",
      "None\n",
      "None\n",
      "None\n",
      "None\n",
      "None\n",
      "None\n",
      "None\n",
      "None\n",
      "None\n",
      "None\n",
      "None\n",
      "None\n"
     ]
    }
   ],
   "source": [
    "states = [\"AL\", \"AK\", \"AZ\", \"AR\", \"CA\", \"CO\", \"CT\", \"DC\", \"DE\", \"FL\", \"GA\", \n",
    "          \"HI\", \"ID\", \"IL\", \"IN\", \"IA\", \"KS\", \"KY\", \"LA\", \"ME\", \"MD\", \n",
    "          \"MA\", \"MI\", \"MN\", \"MS\", \"MO\", \"MT\", \"NE\", \"NV\", \"NH\", \"NJ\", \n",
    "          \"NM\", \"NY\", \"NC\", \"ND\", \"OH\", \"OK\", \"OR\", \"PA\", \"RI\", \"SC\", \n",
    "          \"SD\", \"TN\", \"TX\", \"UT\", \"VT\", \"VA\", \"WA\", \"WV\", \"WI\", \"WY\"]\n",
    "         \n",
    "for state in states:\n",
    "    out = beadata(\"CAINC1\", \"1\", (state), \"2014\", view=False, csv=True )\n",
    "    print(out)\n"
   ]
  },
  {
   "cell_type": "code",
   "execution_count": 142,
   "metadata": {},
   "outputs": [
    {
     "name": "stdout",
     "output_type": "stream",
     "text": [
      "[None]\n"
     ]
    }
   ],
   "source": []
  },
  {
   "cell_type": "code",
   "execution_count": null,
   "metadata": {},
   "outputs": [],
   "source": []
  }
 ],
 "metadata": {
  "kernelspec": {
   "display_name": "Python 3",
   "language": "python",
   "name": "python3"
  },
  "language_info": {
   "codemirror_mode": {
    "name": "ipython",
    "version": 3
   },
   "file_extension": ".py",
   "mimetype": "text/x-python",
   "name": "python",
   "nbconvert_exporter": "python",
   "pygments_lexer": "ipython3",
   "version": "3.6.5"
  }
 },
 "nbformat": 4,
 "nbformat_minor": 2
}
