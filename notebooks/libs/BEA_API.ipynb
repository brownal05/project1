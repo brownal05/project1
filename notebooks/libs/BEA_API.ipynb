{
 "cells": [
  {
   "cell_type": "code",
   "execution_count": 75,
   "metadata": {},
   "outputs": [],
   "source": [
    "import numpy as np\n",
    "import pandas as pd\n",
    "import requests\n",
    "import json\n",
    "from pprint import pprint\n",
    "from api_keys import bea_api\n",
    "api_key = bea_api\n",
    "method = (\"GetData\", \"GetParameterList\", \"GETDATASETLIST\")\n",
    "get_data = []\n",
    "dataset = []\n",
    "parameter_name = \"TableName\"\n",
    "target = \"LineCode\"\n",
    "geofip = \"STATE\"\n",
    "table_name = \"\"\n",
    "line_code = \"53\"\n",
    "year = \"ALL\"\n",
    "list_url = (f\"https://apps.bea.gov/api/data?&UserID={api_key}&method={method}&datasetname={dataset}&TargetParameter={target}&TableName={table_name}\")\n",
    "#&ParameterName={parameter_name}\n",
    "#url = (f\"https://apps.bea.gov/api/data?&UserID={api_key}&method={get_data}&datasetname={dataset}&LineCode={line_code}&TableName={table_name}&GeoFIPS={geofip}&Year={year}\")\n",
    "url = (f\"https://apps.bea.gov/api/data?&UserID={api_key}&method=\")\n",
    "#SAINC51\n",
    "#response = requests.get(url).json()       \n",
    "#list_response = requests.get(list_url).json()"
   ]
  },
  {
   "cell_type": "code",
   "execution_count": 282,
   "metadata": {},
   "outputs": [],
   "source": [
    "data_set_names = ({\n",
    "             'Standard NIPA tables': 'NIPA',\n",
    "             'Standard NI underlying detail tables' : 'NIUnderlyingDetail',\n",
    "             'Multinational Enterprises': 'MNE',\n",
    "             'Standard Fixed Assets tables' : 'FixedAssets',\n",
    "             'International Transactions Accounts' : 'ITA',\n",
    "             'International Investment Position': 'IIP',\n",
    "             'GDP by Industry' : 'GDPbyIndustry',\n",
    "             'Regional Income data sets' : 'RegionalIncome',\n",
    "             'Regional Product data sets' : 'RegionalProduct',\n",
    "             'Input-Output Data' : 'InputOutput',\n",
    "             'Underlying GDP by Industry': 'UnderlyingGDPbyIndustry',\n",
    "              'International Services Trade': 'IntlServTrade',\n",
    "             'Regional data sets': 'Regional',\n",
    "              'Metadata about other API datasets' : 'APIDatasetMetaData'})\n",
    "\n",
    "data_set_names = pd.DataFrame([data_set_names])\n",
    "data_set_names.to_csv(\"data_set_names.csv\")  \n",
    "    "
   ]
  },
  {
   "cell_type": "code",
   "execution_count": 255,
   "metadata": {},
   "outputs": [
    {
     "data": {
      "text/plain": [
       "['NIPA']"
      ]
     },
     "execution_count": 255,
     "metadata": {},
     "output_type": "execute_result"
    }
   ],
   "source": [
    "#count = 0\n",
    "#n = 15\n",
    "#for i in data_set:\n",
    " #   count +=1 \n",
    "    response = requests.get(f\"{url}{method[2]}\").json()  \n",
    "    try:\n",
    "           data_set_names.append(response[\"BEAAPI\"][\"Results\"][\"Dataset\"][count][\"DatasetName\"])  \n",
    "           print(f\"Getting record number {count}\")\n",
    "    except:\n",
    "           print(\"Skipping\")\n",
    "        "
   ]
  },
  {
   "cell_type": "code",
   "execution_count": 200,
   "metadata": {},
   "outputs": [
    {
     "name": "stdout",
     "output_type": "stream",
     "text": [
      "'MNE'\n"
     ]
    }
   ],
   "source": []
  },
  {
   "cell_type": "code",
   "execution_count": 104,
   "metadata": {},
   "outputs": [
    {
     "name": "stdout",
     "output_type": "stream",
     "text": [
      "{'Dataset': [{'DatasetDescription': 'The RegionalData dataset is obsolete. '\n",
      "                                    'Please use the Regional dataset. See API '\n",
      "                                    'documentation at apps.bea.gov/developers',\n",
      "              'DatasetName': 'RegionalData'},\n",
      "             {'DatasetDescription': 'Standard NIPA tables',\n",
      "              'DatasetName': 'NIPA'},\n",
      "             {'DatasetDescription': 'Standard NI underlying detail tables',\n",
      "              'DatasetName': 'NIUnderlyingDetail'},\n",
      "             {'DatasetDescription': 'Multinational Enterprises',\n",
      "              'DatasetName': 'MNE'},\n",
      "             {'DatasetDescription': 'Standard Fixed Assets tables',\n",
      "              'DatasetName': 'FixedAssets'},\n",
      "             {'DatasetDescription': 'International Transactions Accounts',\n",
      "              'DatasetName': 'ITA'},\n",
      "             {'DatasetDescription': 'International Investment Position',\n",
      "              'DatasetName': 'IIP'},\n",
      "             {'DatasetDescription': 'GDP by Industry',\n",
      "              'DatasetName': 'GDPbyIndustry'},\n",
      "             {'DatasetDescription': 'Regional Income data sets',\n",
      "              'DatasetName': 'RegionalIncome'},\n",
      "             {'DatasetDescription': 'Regional Product data sets',\n",
      "              'DatasetName': 'RegionalProduct'},\n",
      "             {'DatasetDescription': 'Input-Output Data',\n",
      "              'DatasetName': 'InputOutput'},\n",
      "             {'DatasetDescription': 'Underlying GDP by Industry',\n",
      "              'DatasetName': 'UnderlyingGDPbyIndustry'},\n",
      "             {'DatasetDescription': 'International Services Trade',\n",
      "              'DatasetName': 'IntlServTrade'},\n",
      "             {'DatasetDescription': 'Regional data sets',\n",
      "              'DatasetName': 'Regional'},\n",
      "             {'DatasetDescription': 'Metadata about other API datasets',\n",
      "              'DatasetName': 'APIDatasetMetaData'}]}\n"
     ]
    }
   ],
   "source": []
  },
  {
   "cell_type": "code",
   "execution_count": 272,
   "metadata": {},
   "outputs": [],
   "source": [
    "\n",
    "              \n",
    "\n",
    "        "
   ]
  },
  {
   "cell_type": "code",
   "execution_count": null,
   "metadata": {},
   "outputs": [],
   "source": []
  }
 ],
 "metadata": {
  "kernelspec": {
   "display_name": "Python 3",
   "language": "python",
   "name": "python3"
  },
  "language_info": {
   "codemirror_mode": {
    "name": "ipython",
    "version": 3
   },
   "file_extension": ".py",
   "mimetype": "text/x-python",
   "name": "python",
   "nbconvert_exporter": "python",
   "pygments_lexer": "ipython3",
   "version": "3.6.5"
  }
 },
 "nbformat": 4,
 "nbformat_minor": 2
}
