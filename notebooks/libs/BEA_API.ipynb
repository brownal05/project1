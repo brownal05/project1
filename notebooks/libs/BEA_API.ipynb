{
 "cells": [
  {
   "cell_type": "code",
   "execution_count": 1,
   "metadata": {},
   "outputs": [],
   "source": [
    "import numpy as np\n",
    "import pandas as pd\n",
    "import requests\n",
    "import json\n",
    "from pprint import pprint\n",
    "import api_keys\n",
    "#import matplotlib.pyplt\n",
    "api_key = api_keys.bea_key\n",
    "method = (\"GetData\", \"GetParameterList\", \"GETDATASETLIST\", \"GetParameterValues\")\n",
    "get_data = []\n",
    "dataset = []\n",
    "parameter_name = \"TableName\"\n",
    "target = \"LineCode\"\n",
    "geofip = \"STATE\"\n",
    "table_name = \"\"\n",
    "line_code = \"53\"\n",
    "year = \"ALL\"\n",
    "list_url = (f\"https://apps.bea.gov/api/data?&UserID={api_key}&method={method}&datasetname={dataset}&TargetParameter={target}&TableName={table_name}\")\n",
    "#&ParameterName={parameter_name}\n",
    "#url = (f\"https://apps.bea.gov/api/data?&UserID={api_key}&method={get_data}&datasetname={dataset}&LineCode={line_code}&TableName={table_name}&GeoFIPS={geofip}&Year={year}\")\n",
    "url = (f\"https://apps.bea.gov/api/data?&UserID={api_key}&method=\")\n",
    "#SAINC51\n",
    "#response = requests.get(url).json()       \n",
    "#list_response = requests.get(list_url).json()\n"
   ]
  },
  {
   "cell_type": "code",
   "execution_count": 2,
   "metadata": {},
   "outputs": [],
   "source": [
    "data_set_names = ({\n",
    "             'Standard NIPA tables': 'NIPA',\n",
    "             'Standard NI underlying detail tables' : 'NIUnderlyingDetail',\n",
    "             'Multinational Enterprises': 'MNE',\n",
    "             'Standard Fixed Assets tables' : 'FixedAssets',\n",
    "             'International Transactions Accounts' : 'ITA',\n",
    "             'International Investment Position': 'IIP',\n",
    "             'GDP by Industry' : 'GDPbyIndustry',\n",
    "             'Regional Income data sets' : 'RegionalIncome',\n",
    "             'Regional Product data sets' : 'RegionalProduct',\n",
    "             'Input-Output Data' : 'InputOutput',\n",
    "             'Underlying GDP by Industry': 'UnderlyingGDPbyIndustry',\n",
    "              'International Services Trade': 'IntlServTrade',\n",
    "             'Regional data sets': 'Regional',\n",
    "              'Metadata about other API datasets' : 'APIDatasetMetaData'})\n",
    "\n",
    "data_set_names = pd.DataFrame([data_set_names])\n",
    "data_set_names.to_csv(\"data_set_names.csv\")"
   ]
  },
  {
   "cell_type": "code",
   "execution_count": 3,
   "metadata": {},
   "outputs": [],
   "source": [
    "def parameters(x, y, view=False, csv=False):   \n",
    "    count =+1\n",
    "    paras = []\n",
    "    parameter_values = (x)\n",
    "    data_set = (y)\n",
    "\n",
    "    try:\n",
    "        response = requests.get(f\"{url}{method[3]}&datasetname={data_set}&ParameterName={parameter_values}\").json() \n",
    "        paras.append(response[\"BEAAPI\"][\"Results\"][\"ParamValue\"])\n",
    "        if view == True:\n",
    "            pprint(response[\"BEAAPI\"][\"Results\"][\"ParamValue\"])\n",
    "        elif csv == True:\n",
    "            paras = pd.DataFrame(paras)\n",
    "            paras.to_csv(\"output.csv\")  \n",
    "            print(\"output.csv uploaded\")\n",
    "        else:\n",
    "            print(f\"{parameter_values} Values Retrived\")\n",
    "    except:\n",
    "        try:\n",
    "            response = requests.get(f\"{url}{method[3]}&datasetname={data_set}&ParameterName={parameter_values}\").json() \n",
    "            paras.append(response[\"BEAAPI\"][\"Results\"][\"ParamValue\"])\n",
    "            if view == True:\n",
    "                pprint(response[\"BEAAPI\"][\"Results\"][\"ParamValue\"])\n",
    "            elif csv == True:\n",
    "                paras = pd.DataFrame(paras)\n",
    "                paras.to_csv(\"output.csv\")  \n",
    "            else:\n",
    "                print(f\"{parameter_values} List Retrived\")  \n",
    "        except:   \n",
    "            try:\n",
    "                response = requests.get(f\"{url}{method[1]}&datasetname={data_set}\").json() \n",
    "                paras.append(response[\"BEAAPI\"][\"Results\"][\"Parameter\"])\n",
    "                print(f\"{parameter_values} List Retrived\")  \n",
    "                if view == True:\n",
    "                    pprint(response[\"BEAAPI\"][\"Results\"][\"Parameter\"])\n",
    "                elif csv == True:\n",
    "                    paras = pd.DataFrame(paras)\n",
    "                    paras.to_csv(\"output.csv\")  \n",
    "                else:\n",
    "                    print(f\"{data_set} List Retrived\")      \n",
    "            except:\n",
    "                print(response)\n",
    "    return"
   ]
  },
  {
   "cell_type": "code",
   "execution_count": 4,
   "metadata": {},
   "outputs": [
    {
     "name": "stdout",
     "output_type": "stream",
     "text": [
      "{'BEAAPI': {'Request': {'RequestParam': [{'ParameterName': 'METHOD',\n",
      "                                          'ParameterValue': 'METHODGETDATA...[MODIFIED '\n",
      "                                                            'TO PREVENT '\n",
      "                                                            'CROSS-SITE '\n",
      "                                                            'SCRIPTING]'},\n",
      "                                         {'ParameterName': 'FREQUENCY',\n",
      "                                          'ParameterValue': 'Q'},\n",
      "                                         {'ParameterName': 'USERID',\n",
      "                                          'ParameterValue': '1BC99EDB-AA8F-4A2A-83A9-8B7AACD482C2'},\n",
      "                                         {'ParameterName': 'YEAR',\n",
      "                                          'ParameterValue': 'ALL'},\n",
      "                                         {'ParameterName': 'DATASETNAME',\n",
      "                                          'ParameterValue': 'NIPA'}]},\n",
      "            'Results': {'Error': {'APIErrorCode': '1',\n",
      "                                  'APIErrorDescription': 'This API request is '\n",
      "                                                         'a possible '\n",
      "                                                         'cross-site scripting '\n",
      "                                                         'attempt.  Please '\n",
      "                                                         'check your API '\n",
      "                                                         'request.'}}}}\n"
     ]
    }
   ],
   "source": [
    " response = requests.get(f\"{url}method=GetData&datasetname=NIPA&Frequency=Q&Year=ALL\").json()\n",
    "#&datasetname={data_set}&TableName={tablename}&LineCode={linecode}&GeoFIPS={state}&Year=ALL\"\n",
    "pprint(response)"
   ]
  },
  {
   "cell_type": "code",
   "execution_count": 37,
   "metadata": {},
   "outputs": [
    {
     "name": "stdout",
     "output_type": "stream",
     "text": [
      "MAGDP2 List Retrived\n",
      "[{'MultipleAcceptedFlag': '1',\n",
      "  'ParameterDataType': 'string',\n",
      "  'ParameterDescription': 'Comma-delimited list of 5-character geographic '\n",
      "                          'codes; COUNTY for all counties, STATE for all '\n",
      "                          'states, MSA for all MSAs, MIC for all Micropolitan '\n",
      "                          'Areas, PORT for all state metro/nonmetro portions, '\n",
      "                          'DIV for all Metropolitan Divisions, CSA for all '\n",
      "                          'Combined Statistical Areas, state post office '\n",
      "                          'abbreviation for all counties in one state (e.g. '\n",
      "                          'NY)',\n",
      "  'ParameterIsRequiredFlag': '1',\n",
      "  'ParameterName': 'GeoFips'},\n",
      " {'MultipleAcceptedFlag': '0',\n",
      "  'ParameterDataType': 'integer',\n",
      "  'ParameterDescription': 'Line code for a statistic or industry',\n",
      "  'ParameterIsRequiredFlag': '1',\n",
      "  'ParameterName': 'LineCode'},\n",
      " {'MultipleAcceptedFlag': '0',\n",
      "  'ParameterDataType': 'string',\n",
      "  'ParameterDefaultValue': '',\n",
      "  'ParameterDescription': 'Regional income or product table to retrieve',\n",
      "  'ParameterIsRequiredFlag': '1',\n",
      "  'ParameterName': 'TableName'},\n",
      " {'MultipleAcceptedFlag': '1',\n",
      "  'ParameterDataType': 'string',\n",
      "  'ParameterDefaultValue': 'LAST5',\n",
      "  'ParameterDescription': 'Comma-delimted list of years; LAST5 for latest 5 '\n",
      "                          'years; LAST10 for latest 10 years; ALL for all '\n",
      "                          'years',\n",
      "  'ParameterIsRequiredFlag': '0',\n",
      "  'ParameterName': 'Year'}]\n"
     ]
    }
   ],
   "source": [
    "parameters(\"MAGDP2\", \"Regional\", view = True )"
   ]
  },
  {
   "cell_type": "code",
   "execution_count": 5,
   "metadata": {},
   "outputs": [],
   "source": [
    "#API Data Pull Function\n",
    "#https://apps.bea.gov/api/data/?&UserID=Your-36Character-Key&method=GetData&datasetname=Regional&TableName=CAINC1&LineCode=3&GeoFIPS=DE&Year=2014&ResultFormat=XML\n",
    "\n",
    "def beadata(data_set, table, linecode, geofips, year, view=False, csv=False): #   var taken out\n",
    "    tablename = (table)\n",
    "    linecode = (linecode)\n",
    "    geofips = (geofips)\n",
    "    year = (year)\n",
    "    data_set = (data_set)\n",
    "    geo = []\n",
    "    value = []\n",
    "    \n",
    "    \n",
    "    \"\"\"\n",
    "        if (year):\n",
    "            url = url + &Year={year}\n",
    "    \"\"\"\n",
    "   # states = [\"AL\", \"AK\", \"AZ\", \"AR\", \"CA\", \"CO\", \"CT\", \"DC\", \"DE\", \"FL\", \"GA\", \n",
    "     #     \"HI\", \"ID\", \"IL\", \"IN\", \"IA\", \"KS\", \"KY\", \"LA\", \"ME\", \"MD\", \n",
    "      #    \"MA\", \"MI\", \"MN\", \"MS\", \"MO\", \"MT\", \"NE\", \"NV\", \"NH\", \"NJ\", \n",
    "       #   \"NM\", \"NY\", \"NC\", \"ND\", \"OH\", \"OK\", \"OR\", \"PA\", \"RI\", \"SC\", \n",
    "       #   \"SD\", \"TN\", \"TX\", \"UT\", \"VT\", \"VA\", \"WA\", \"WV\", \"WI\", \"WY\"]\n",
    " \n",
    "    \n",
    "   # for state in states:\n",
    "    response = requests.get(f\"{url}{method[0]}&datasetname={data_set}&TableName={tablename}&LineCode={linecode}&GeoFIPS={geofips}&Year={year}\").json()        \n",
    "    try:\n",
    "        geo.append(response[\"BEAAPI\"][\"Results\"][\"Data\"][\"GeoName\"])\n",
    "        value.append(response[\"BEAAPI\"][\"Results\"][\"Data\"][\"DataValue\"])\n",
    "  \n",
    "    except:\n",
    "        pprint(response)\n",
    "        \n",
    "    if csv == True:\n",
    "        out_df.to_csv(\"output.csv\")\n",
    "    \n",
    "    out_df = pd.DataFrame({\"State\" :geo,\n",
    "                          \"Value\":value,\n",
    "                          \"Year\":year})\n",
    "    return out_df\n",
    "    \n"
   ]
  },
  {
   "cell_type": "code",
   "execution_count": 27,
   "metadata": {},
   "outputs": [],
   "source": [
    "\n",
    "#mm_state_income = beadata(\"Regional\", \"SAINC1\", \"1\", states, \"ALL\", csv=True)\n",
    "#response = requests.get(f\"{url}{method[0]}&datasetname=Regional&TableName=SAINC1&LineCode=1&GeoFIPS=ME&Year=2014\").json() \n",
    "#search =response[\"BEAAPI\"][\"Results\"][\"Data\"]\n",
    "#response[\"BEAAPI\"][\"Results\"][\"Data\"][\"DataValue\"]\n",
    "#years = [1990, 1991, 1992, 1993, 1994, 1995, 1996, 1997, 1998]\n",
    "#for year in years:\n",
    "   # out_df = beadata(\"Regional\", \"CAINC1\", \"1\", year)\n",
    "    \n",
    "    #out_df.to_csv(f\"{year}_income.csv\")"
   ]
  },
  {
   "cell_type": "code",
   "execution_count": 28,
   "metadata": {},
   "outputs": [
    {
     "ename": "TypeError",
     "evalue": "beadata() missing 3 required positional arguments: 'linecode', 'geofips', and 'year'",
     "output_type": "error",
     "traceback": [
      "\u001b[1;31m---------------------------------------------------------------------------\u001b[0m",
      "\u001b[1;31mTypeError\u001b[0m                                 Traceback (most recent call last)",
      "\u001b[1;32m<ipython-input-28-b2c0ff7de446>\u001b[0m in \u001b[0;36m<module>\u001b[1;34m()\u001b[0m\n\u001b[1;32m----> 1\u001b[1;33m \u001b[0mbeadata\u001b[0m\u001b[1;33m(\u001b[0m\u001b[1;34m\"NIPA\"\u001b[0m\u001b[1;33m,\u001b[0m \u001b[1;34m\"A\"\u001b[0m\u001b[1;33m,\u001b[0m \u001b[1;33m)\u001b[0m\u001b[1;33m\u001b[0m\u001b[0m\n\u001b[0m",
      "\u001b[1;31mTypeError\u001b[0m: beadata() missing 3 required positional arguments: 'linecode', 'geofips', and 'year'"
     ]
    }
   ],
   "source": [
    "beadata(\"NIPA\", \"A\", )"
   ]
  },
  {
   "cell_type": "code",
   "execution_count": 8,
   "metadata": {},
   "outputs": [
    {
     "ename": "JSONDecodeError",
     "evalue": "Expecting value: line 1 column 1 (char 0)",
     "output_type": "error",
     "traceback": [
      "\u001b[1;31m---------------------------------------------------------------------------\u001b[0m",
      "\u001b[1;31mJSONDecodeError\u001b[0m                           Traceback (most recent call last)",
      "\u001b[1;32m<ipython-input-8-9a18dd3975b1>\u001b[0m in \u001b[0;36m<module>\u001b[1;34m()\u001b[0m\n\u001b[0;32m      2\u001b[0m \u001b[1;31m#response\u001b[0m\u001b[1;33m\u001b[0m\u001b[1;33m\u001b[0m\u001b[0m\n\u001b[0;32m      3\u001b[0m \u001b[1;31m#print(f\"{url}{method[0]}&datasetname=Regional&TableName=CAINC1&LineCode=1&GeoFIPS=ME&Year=2014\")\u001b[0m\u001b[1;33m\u001b[0m\u001b[1;33m\u001b[0m\u001b[0m\n\u001b[1;32m----> 4\u001b[1;33m \u001b[0mbeadata\u001b[0m\u001b[1;33m(\u001b[0m\u001b[1;34m\"Regional\"\u001b[0m\u001b[1;33m,\u001b[0m \u001b[1;34m\"MAGDP2\"\u001b[0m\u001b[1;33m,\u001b[0m \u001b[1;34m\"1\"\u001b[0m\u001b[1;33m,\u001b[0m \u001b[1;34m\"MIC\"\u001b[0m\u001b[1;33m,\u001b[0m \u001b[1;34m\"ALL\"\u001b[0m \u001b[1;33m)\u001b[0m\u001b[1;33m\u001b[0m\u001b[0m\n\u001b[0m",
      "\u001b[1;32m<ipython-input-5-33cdd5bfcff4>\u001b[0m in \u001b[0;36mbeadata\u001b[1;34m(data_set, table, linecode, geofips, year, view, csv)\u001b[0m\n\u001b[0;32m     24\u001b[0m \u001b[1;33m\u001b[0m\u001b[0m\n\u001b[0;32m     25\u001b[0m    \u001b[1;31m# for state in states:\u001b[0m\u001b[1;33m\u001b[0m\u001b[1;33m\u001b[0m\u001b[0m\n\u001b[1;32m---> 26\u001b[1;33m     \u001b[0mresponse\u001b[0m \u001b[1;33m=\u001b[0m \u001b[0mrequests\u001b[0m\u001b[1;33m.\u001b[0m\u001b[0mget\u001b[0m\u001b[1;33m(\u001b[0m\u001b[1;34mf\"{url}{method[0]}&datasetname={data_set}&TableName={tablename}&LineCode={linecode}&GeoFIPS={geofips}&Year={year}\"\u001b[0m\u001b[1;33m)\u001b[0m\u001b[1;33m.\u001b[0m\u001b[0mjson\u001b[0m\u001b[1;33m(\u001b[0m\u001b[1;33m)\u001b[0m\u001b[1;33m\u001b[0m\u001b[0m\n\u001b[0m\u001b[0;32m     27\u001b[0m     \u001b[1;32mtry\u001b[0m\u001b[1;33m:\u001b[0m\u001b[1;33m\u001b[0m\u001b[0m\n\u001b[0;32m     28\u001b[0m         \u001b[0mgeo\u001b[0m\u001b[1;33m.\u001b[0m\u001b[0mappend\u001b[0m\u001b[1;33m(\u001b[0m\u001b[0mresponse\u001b[0m\u001b[1;33m[\u001b[0m\u001b[1;34m\"BEAAPI\"\u001b[0m\u001b[1;33m]\u001b[0m\u001b[1;33m[\u001b[0m\u001b[1;34m\"Results\"\u001b[0m\u001b[1;33m]\u001b[0m\u001b[1;33m[\u001b[0m\u001b[1;34m\"Data\"\u001b[0m\u001b[1;33m]\u001b[0m\u001b[1;33m[\u001b[0m\u001b[1;34m\"GeoName\"\u001b[0m\u001b[1;33m]\u001b[0m\u001b[1;33m)\u001b[0m\u001b[1;33m\u001b[0m\u001b[0m\n",
      "\u001b[1;32mC:\\Program Files (x86)\\Microsoft Visual Studio\\Shared\\Anaconda3_64\\lib\\site-packages\\requests\\models.py\u001b[0m in \u001b[0;36mjson\u001b[1;34m(self, **kwargs)\u001b[0m\n\u001b[0;32m    890\u001b[0m                     \u001b[1;31m# used.\u001b[0m\u001b[1;33m\u001b[0m\u001b[1;33m\u001b[0m\u001b[0m\n\u001b[0;32m    891\u001b[0m                     \u001b[1;32mpass\u001b[0m\u001b[1;33m\u001b[0m\u001b[0m\n\u001b[1;32m--> 892\u001b[1;33m         \u001b[1;32mreturn\u001b[0m \u001b[0mcomplexjson\u001b[0m\u001b[1;33m.\u001b[0m\u001b[0mloads\u001b[0m\u001b[1;33m(\u001b[0m\u001b[0mself\u001b[0m\u001b[1;33m.\u001b[0m\u001b[0mtext\u001b[0m\u001b[1;33m,\u001b[0m \u001b[1;33m**\u001b[0m\u001b[0mkwargs\u001b[0m\u001b[1;33m)\u001b[0m\u001b[1;33m\u001b[0m\u001b[0m\n\u001b[0m\u001b[0;32m    893\u001b[0m \u001b[1;33m\u001b[0m\u001b[0m\n\u001b[0;32m    894\u001b[0m     \u001b[1;33m@\u001b[0m\u001b[0mproperty\u001b[0m\u001b[1;33m\u001b[0m\u001b[0m\n",
      "\u001b[1;32mC:\\Program Files (x86)\\Microsoft Visual Studio\\Shared\\Anaconda3_64\\lib\\json\\__init__.py\u001b[0m in \u001b[0;36mloads\u001b[1;34m(s, encoding, cls, object_hook, parse_float, parse_int, parse_constant, object_pairs_hook, **kw)\u001b[0m\n\u001b[0;32m    352\u001b[0m             \u001b[0mparse_int\u001b[0m \u001b[1;32mis\u001b[0m \u001b[1;32mNone\u001b[0m \u001b[1;32mand\u001b[0m \u001b[0mparse_float\u001b[0m \u001b[1;32mis\u001b[0m \u001b[1;32mNone\u001b[0m \u001b[1;32mand\u001b[0m\u001b[1;33m\u001b[0m\u001b[0m\n\u001b[0;32m    353\u001b[0m             parse_constant is None and object_pairs_hook is None and not kw):\n\u001b[1;32m--> 354\u001b[1;33m         \u001b[1;32mreturn\u001b[0m \u001b[0m_default_decoder\u001b[0m\u001b[1;33m.\u001b[0m\u001b[0mdecode\u001b[0m\u001b[1;33m(\u001b[0m\u001b[0ms\u001b[0m\u001b[1;33m)\u001b[0m\u001b[1;33m\u001b[0m\u001b[0m\n\u001b[0m\u001b[0;32m    355\u001b[0m     \u001b[1;32mif\u001b[0m \u001b[0mcls\u001b[0m \u001b[1;32mis\u001b[0m \u001b[1;32mNone\u001b[0m\u001b[1;33m:\u001b[0m\u001b[1;33m\u001b[0m\u001b[0m\n\u001b[0;32m    356\u001b[0m         \u001b[0mcls\u001b[0m \u001b[1;33m=\u001b[0m \u001b[0mJSONDecoder\u001b[0m\u001b[1;33m\u001b[0m\u001b[0m\n",
      "\u001b[1;32mC:\\Program Files (x86)\\Microsoft Visual Studio\\Shared\\Anaconda3_64\\lib\\json\\decoder.py\u001b[0m in \u001b[0;36mdecode\u001b[1;34m(self, s, _w)\u001b[0m\n\u001b[0;32m    337\u001b[0m \u001b[1;33m\u001b[0m\u001b[0m\n\u001b[0;32m    338\u001b[0m         \"\"\"\n\u001b[1;32m--> 339\u001b[1;33m         \u001b[0mobj\u001b[0m\u001b[1;33m,\u001b[0m \u001b[0mend\u001b[0m \u001b[1;33m=\u001b[0m \u001b[0mself\u001b[0m\u001b[1;33m.\u001b[0m\u001b[0mraw_decode\u001b[0m\u001b[1;33m(\u001b[0m\u001b[0ms\u001b[0m\u001b[1;33m,\u001b[0m \u001b[0midx\u001b[0m\u001b[1;33m=\u001b[0m\u001b[0m_w\u001b[0m\u001b[1;33m(\u001b[0m\u001b[0ms\u001b[0m\u001b[1;33m,\u001b[0m \u001b[1;36m0\u001b[0m\u001b[1;33m)\u001b[0m\u001b[1;33m.\u001b[0m\u001b[0mend\u001b[0m\u001b[1;33m(\u001b[0m\u001b[1;33m)\u001b[0m\u001b[1;33m)\u001b[0m\u001b[1;33m\u001b[0m\u001b[0m\n\u001b[0m\u001b[0;32m    340\u001b[0m         \u001b[0mend\u001b[0m \u001b[1;33m=\u001b[0m \u001b[0m_w\u001b[0m\u001b[1;33m(\u001b[0m\u001b[0ms\u001b[0m\u001b[1;33m,\u001b[0m \u001b[0mend\u001b[0m\u001b[1;33m)\u001b[0m\u001b[1;33m.\u001b[0m\u001b[0mend\u001b[0m\u001b[1;33m(\u001b[0m\u001b[1;33m)\u001b[0m\u001b[1;33m\u001b[0m\u001b[0m\n\u001b[0;32m    341\u001b[0m         \u001b[1;32mif\u001b[0m \u001b[0mend\u001b[0m \u001b[1;33m!=\u001b[0m \u001b[0mlen\u001b[0m\u001b[1;33m(\u001b[0m\u001b[0ms\u001b[0m\u001b[1;33m)\u001b[0m\u001b[1;33m:\u001b[0m\u001b[1;33m\u001b[0m\u001b[0m\n",
      "\u001b[1;32mC:\\Program Files (x86)\\Microsoft Visual Studio\\Shared\\Anaconda3_64\\lib\\json\\decoder.py\u001b[0m in \u001b[0;36mraw_decode\u001b[1;34m(self, s, idx)\u001b[0m\n\u001b[0;32m    355\u001b[0m             \u001b[0mobj\u001b[0m\u001b[1;33m,\u001b[0m \u001b[0mend\u001b[0m \u001b[1;33m=\u001b[0m \u001b[0mself\u001b[0m\u001b[1;33m.\u001b[0m\u001b[0mscan_once\u001b[0m\u001b[1;33m(\u001b[0m\u001b[0ms\u001b[0m\u001b[1;33m,\u001b[0m \u001b[0midx\u001b[0m\u001b[1;33m)\u001b[0m\u001b[1;33m\u001b[0m\u001b[0m\n\u001b[0;32m    356\u001b[0m         \u001b[1;32mexcept\u001b[0m \u001b[0mStopIteration\u001b[0m \u001b[1;32mas\u001b[0m \u001b[0merr\u001b[0m\u001b[1;33m:\u001b[0m\u001b[1;33m\u001b[0m\u001b[0m\n\u001b[1;32m--> 357\u001b[1;33m             \u001b[1;32mraise\u001b[0m \u001b[0mJSONDecodeError\u001b[0m\u001b[1;33m(\u001b[0m\u001b[1;34m\"Expecting value\"\u001b[0m\u001b[1;33m,\u001b[0m \u001b[0ms\u001b[0m\u001b[1;33m,\u001b[0m \u001b[0merr\u001b[0m\u001b[1;33m.\u001b[0m\u001b[0mvalue\u001b[0m\u001b[1;33m)\u001b[0m \u001b[1;32mfrom\u001b[0m \u001b[1;32mNone\u001b[0m\u001b[1;33m\u001b[0m\u001b[0m\n\u001b[0m\u001b[0;32m    358\u001b[0m         \u001b[1;32mreturn\u001b[0m \u001b[0mobj\u001b[0m\u001b[1;33m,\u001b[0m \u001b[0mend\u001b[0m\u001b[1;33m\u001b[0m\u001b[0m\n",
      "\u001b[1;31mJSONDecodeError\u001b[0m: Expecting value: line 1 column 1 (char 0)"
     ]
    }
   ],
   "source": [
    "#response = requests.get(f\"{url}{method[0]}&datasetname=Regional&TableName=CAINC1&LineCode=1&GeoFIPS=ME&Year=2014\")\n",
    "#response\n",
    "#print(f\"{url}{method[0]}&datasetname=Regional&TableName=CAINC1&LineCode=1&GeoFIPS=ME&Year=2014\")\n",
    "beadata(\"Regional\", \"MAGDP2\", \"2\", \"MIC\", \"ALL\" )\n"
   ]
  },
  {
   "cell_type": "code",
   "execution_count": null,
   "metadata": {},
   "outputs": [],
   "source": []
  },
  {
   "cell_type": "code",
   "execution_count": null,
   "metadata": {},
   "outputs": [],
   "source": []
  },
  {
   "cell_type": "code",
   "execution_count": null,
   "metadata": {},
   "outputs": [],
   "source": []
  },
  {
   "cell_type": "code",
   "execution_count": null,
   "metadata": {},
   "outputs": [],
   "source": []
  }
 ],
 "metadata": {
  "kernelspec": {
   "display_name": "Python 3",
   "language": "python",
   "name": "python3"
  },
  "language_info": {
   "codemirror_mode": {
    "name": "ipython",
    "version": 3
   },
   "file_extension": ".py",
   "mimetype": "text/x-python",
   "name": "python",
   "nbconvert_exporter": "python",
   "pygments_lexer": "ipython3",
   "version": "3.6.5"
  }
 },
 "nbformat": 4,
 "nbformat_minor": 2
}
