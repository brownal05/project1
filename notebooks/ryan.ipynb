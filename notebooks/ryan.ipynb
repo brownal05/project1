{
 "cells": [
  {
   "cell_type": "code",
   "execution_count": 3,
   "metadata": {},
   "outputs": [],
   "source": [
    "import numpy as np\n",
    "import pandas as pd\n",
    "import requests\n",
    "import json\n",
    "from pprint import pprint\n",
    "\n",
    "file_to_load = \"../raw-data/new Bank Data.csv\"\n",
    "\n",
    "# Read Purchasing File and store into Pandas data frame\n",
    "df = pd.read_csv(file_to_load)\n"
   ]
  },
  {
   "cell_type": "code",
   "execution_count": 2,
   "metadata": {},
   "outputs": [],
   "source": [
    "url = \"https://banks.data.fdic.gov/api/summary?filters=STNAME%3A%22Alabama%22&fields=STNAME%2CYEAR%2CINTINC%2CEINTEXP%2CNIM%2CNONII%2CNONIX%2CELNATR%2CITAXR%2CIGLSEC%2CITAX%2CEXTRA%2CNETINC&sort_by=YEAR&sort_order=DESC&limit=10&offset=0&format=json&download=false&filename=data_file\"\n",
    "years = [1988,1989,1990,1991,1992,1993,1999,2000,2001,2002,2003,2005,2006,2007,2008,2009,2010,2011]"
   ]
  },
  {
   "cell_type": "code",
   "execution_count": 14,
   "metadata": {},
   "outputs": [
    {
     "data": {
      "text/html": [
       "<div>\n",
       "<style scoped>\n",
       "    .dataframe tbody tr th:only-of-type {\n",
       "        vertical-align: middle;\n",
       "    }\n",
       "\n",
       "    .dataframe tbody tr th {\n",
       "        vertical-align: top;\n",
       "    }\n",
       "\n",
       "    .dataframe thead th {\n",
       "        text-align: right;\n",
       "    }\n",
       "</style>\n",
       "<table border=\"1\" class=\"dataframe\">\n",
       "  <thead>\n",
       "    <tr style=\"text-align: right;\">\n",
       "      <th></th>\n",
       "      <th>Auto Loans</th>\n",
       "      <th>Total Loans</th>\n",
       "      <th>Other Loans</th>\n",
       "      <th>Credit Cards</th>\n",
       "      <th>Real Estate</th>\n",
       "      <th>State</th>\n",
       "      <th>Total Past Due</th>\n",
       "      <th>Year</th>\n",
       "    </tr>\n",
       "  </thead>\n",
       "  <tbody>\n",
       "    <tr>\n",
       "      <th>0</th>\n",
       "      <td>6386.0</td>\n",
       "      <td>35123</td>\n",
       "      <td>21178</td>\n",
       "      <td>7559</td>\n",
       "      <td>1664322</td>\n",
       "      <td>Alaska</td>\n",
       "      <td>7175</td>\n",
       "      <td>2011</td>\n",
       "    </tr>\n",
       "    <tr>\n",
       "      <th>1</th>\n",
       "      <td>4014047.0</td>\n",
       "      <td>15142888</td>\n",
       "      <td>10076944</td>\n",
       "      <td>1051897</td>\n",
       "      <td>208604061</td>\n",
       "      <td>California</td>\n",
       "      <td>3437273</td>\n",
       "      <td>2011</td>\n",
       "    </tr>\n",
       "    <tr>\n",
       "      <th>2</th>\n",
       "      <td>1324845.0</td>\n",
       "      <td>4320157</td>\n",
       "      <td>1742526</td>\n",
       "      <td>1252786</td>\n",
       "      <td>47707735</td>\n",
       "      <td>Missouri</td>\n",
       "      <td>943278</td>\n",
       "      <td>2011</td>\n",
       "    </tr>\n",
       "    <tr>\n",
       "      <th>3</th>\n",
       "      <td>43173.0</td>\n",
       "      <td>19262737</td>\n",
       "      <td>43937</td>\n",
       "      <td>19175627</td>\n",
       "      <td>6769332</td>\n",
       "      <td>Nevada</td>\n",
       "      <td>667807</td>\n",
       "      <td>2011</td>\n",
       "    </tr>\n",
       "    <tr>\n",
       "      <th>4</th>\n",
       "      <td>808687.0</td>\n",
       "      <td>1358944</td>\n",
       "      <td>387775</td>\n",
       "      <td>162482</td>\n",
       "      <td>42019915</td>\n",
       "      <td>New Jersey</td>\n",
       "      <td>1348452</td>\n",
       "      <td>2011</td>\n",
       "    </tr>\n",
       "  </tbody>\n",
       "</table>\n",
       "</div>"
      ],
      "text/plain": [
       "   Auto Loans  Total Loans  Other Loans  Credit Cards  Real Estate  \\\n",
       "0      6386.0        35123        21178          7559      1664322   \n",
       "1   4014047.0     15142888     10076944       1051897    208604061   \n",
       "2   1324845.0      4320157      1742526       1252786     47707735   \n",
       "3     43173.0     19262737        43937      19175627      6769332   \n",
       "4    808687.0      1358944       387775        162482     42019915   \n",
       "\n",
       "        State  Total Past Due  Year  \n",
       "0      Alaska            7175  2011  \n",
       "1  California         3437273  2011  \n",
       "2    Missouri          943278  2011  \n",
       "3      Nevada          667807  2011  \n",
       "4  New Jersey         1348452  2011  "
      ]
     },
     "execution_count": 14,
     "metadata": {},
     "output_type": "execute_result"
    }
   ],
   "source": [
    "\n",
    "titledf = df.rename(index=str, columns = {\"LNAUTO\":\"Auto Loans\", \"LNCON\":\"Total Loans\", \"LNCONOTH\":\"Other Loans\", \"LNCRCD\":\"Credit Cards\", \"LNRE\":\"Real Estate\", \"STNAME\":\"State\", \"TPD\":\"Total Past Due\", \"YEAR\":\"Year\"})\n",
    "titledf.head()\n",
    "titledf.to_csv(\"../raw-data/fdicdata\")"
   ]
  },
  {
   "cell_type": "code",
   "execution_count": null,
   "metadata": {},
   "outputs": [],
   "source": []
  }
 ],
 "metadata": {
  "kernelspec": {
   "display_name": "Python 3",
   "language": "python",
   "name": "python3"
  },
  "language_info": {
   "codemirror_mode": {
    "name": "ipython",
    "version": 3
   },
   "file_extension": ".py",
   "mimetype": "text/x-python",
   "name": "python",
   "nbconvert_exporter": "python",
   "pygments_lexer": "ipython3",
   "version": "3.7.0"
  }
 },
 "nbformat": 4,
 "nbformat_minor": 2
}
