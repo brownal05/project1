{
 "cells": [
  {
   "cell_type": "code",
   "execution_count": 3,
   "metadata": {},
   "outputs": [],
   "source": [
    "import numpy as np\n",
    "import pandas as pd\n",
    "import requests\n",
    "import json\n",
    "from pprint import pprint\n",
    "\n",
    "file_to_load = \"../raw-data/new Bank Data.csv\"\n",
    "\n",
    "# Read Purchasing File and store into Pandas data frame\n",
    "df = pd.read_csv(file_to_load)\n"
   ]
  },
  {
   "cell_type": "code",
   "execution_count": 2,
   "metadata": {},
   "outputs": [],
   "source": [
    "url = \"https://banks.data.fdic.gov/api/summary?filters=STNAME%3A%22Alabama%22&fields=STNAME%2CYEAR%2CINTINC%2CEINTEXP%2CNIM%2CNONII%2CNONIX%2CELNATR%2CITAXR%2CIGLSEC%2CITAX%2CEXTRA%2CNETINC&sort_by=YEAR&sort_order=DESC&limit=10&offset=0&format=json&download=false&filename=data_file\"\n",
    "years = [1988,1989,1990,1991,1992,1993,1999,2000,2001,2002,2003,2005,2006,2007,2008,2009,2010,2011]"
   ]
  },
  {
   "cell_type": "code",
   "execution_count": 15,
   "metadata": {},
   "outputs": [],
   "source": [
    "\n",
    "titledf = df.rename(index=str, columns = {\"LNAUTO\":\"Auto Loans\", \"LNCON\":\"Total Loans\", \"LNCONOTH\":\"Other Loans\", \"LNCRCD\":\"Credit Cards\", \"LNRE\":\"Real Estate\", \"STNAME\":\"State\", \"TPD\":\"Total Past Due\", \"YEAR\":\"Year\"})\n",
    "titledf.head()\n",
    "titledf.to_csv(\"../raw-data/fdicdata.csv\")"
   ]
  },
  {
   "cell_type": "code",
   "execution_count": null,
   "metadata": {},
   "outputs": [],
   "source": []
  }
 ],
 "metadata": {
  "kernelspec": {
   "display_name": "Python 3",
   "language": "python",
   "name": "python3"
  },
  "language_info": {
   "codemirror_mode": {
    "name": "ipython",
    "version": 3
   },
   "file_extension": ".py",
   "mimetype": "text/x-python",
   "name": "python",
   "nbconvert_exporter": "python",
   "pygments_lexer": "ipython3",
   "version": "3.6.4"
  }
 },
 "nbformat": 4,
 "nbformat_minor": 2
}
