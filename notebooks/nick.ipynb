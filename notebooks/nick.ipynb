{
 "cells": [
  {
   "cell_type": "code",
   "execution_count": 38,
   "metadata": {},
   "outputs": [],
   "source": [
    "#data explorer\n",
    "import numpy as np\n",
    "import pandas as pd\n",
    "import requests\n",
    "import json\n",
    "from pprint import pprint\n",
    "\n",
    "url = \"https://banks.data.fdic.gov/api/summary?fields=STNAME%2CYEAR%2CINTINC%2CEINTEXP%2CNIM%2CNONII%2CNONIX%2CELNATR%2CITAXR%2CIGLSEC%2CITAX%2CEXTRA%2CNETINC&sort_by=YEAR&sort_order=DESC&limit=10&offset=0&format=json&download=false&filename=data_file&filters=STNAME%3A%22{}%22\"\n",
    "\n",
    "summary_by_year = {}"
   ]
  },
  {
   "cell_type": "code",
   "execution_count": 39,
   "metadata": {},
   "outputs": [],
   "source": [
    "# List of the states\n",
    "state_list = [\"Alabama\",\"Alaska\",\"Arizona\",\"Arkansas\",\"California\",\"Colorado\",\n",
    "  \"Connecticut\",\"Delaware\",\"Florida\",\"Georgia\",\"Hawaii\",\"Idaho\",\"Illinois\",\n",
    "  \"Indiana\",\"Iowa\",\"Kansas\",\"Kentucky\",\"Louisiana\",\"Maine\",\"Maryland\",\n",
    "  \"Massachusetts\",\"Michigan\",\"Minnesota\",\"Mississippi\",\"Missouri\",\"Montana\",\n",
    "  \"Nebraska\",\"Nevada\",\"New Hampshire\",\"New Jersey\",\"New Mexico\",\"New York\",\n",
    "  \"North Carolina\",\"North Dakota\",\"Ohio\",\"Oklahoma\",\"Oregon\",\"Pennsylvania\",\n",
    "  \"Rhode Island\",\"South Carolina\",\"South Dakota\",\"Tennessee\",\"Texas\",\"Utah\",\n",
    "  \"Vermont\",\"Virginia\",\"Washington\",\"West Virginia\",\"Wisconsin\",\"Wyoming\"]\n",
    "\n",
    "# Loop to add each state's data to dictionary \n",
    "for state in state_list:\n",
    "    url_state = url.format(state)\n",
    "    summary_by_year.update({state: requests.get(url_state).json()})\n",
    "#print(summary_by_year.keys())\n"
   ]
  },
  {
   "cell_type": "code",
   "execution_count": 41,
   "metadata": {},
   "outputs": [
    {
     "name": "stdout",
     "output_type": "stream",
     "text": [
      "{'EINTEXP': 919157,\n",
      " 'ELNATR': 526215,\n",
      " 'EXTRA': 0,\n",
      " 'IGLSEC': 26973,\n",
      " 'INTINC': 8597659,\n",
      " 'ITAX': 1221536,\n",
      " 'ITAXR': 3510133,\n",
      " 'NETINC': 2311678,\n",
      " 'NIM': 7678502,\n",
      " 'NONII': 3085435,\n",
      " 'NONIX': 6727589,\n",
      " 'STNAME': 'Alabama',\n",
      " 'YEAR': '2017'}\n"
     ]
    }
   ],
   "source": [
    "pprint(summary_by_year['Alabama']['data'][0]['data'])"
   ]
  },
  {
   "cell_type": "code",
   "execution_count": 32,
   "metadata": {},
   "outputs": [
    {
     "name": "stdout",
     "output_type": "stream",
     "text": [
      "['ITAX', 'EINTEXP', 'EXTRA', 'ELNATR', 'STNAME', 'INTINC', 'NETINC', 'NONIX', 'NIM', 'YEAR', 'ITAXR', 'IGLSEC', 'NONII']\n"
     ]
    }
   ],
   "source": [
    "columns = list(summary_by_year['Alabama']['data'][0]['data'].keys())\n",
    "aaa = {}\n",
    "bbb = ['Total_Interest_Expense',]\n",
    "for ab in columns:\n",
    "    aaa.update({ab:})"
   ]
  },
  {
   "cell_type": "code",
   "execution_count": null,
   "metadata": {},
   "outputs": [],
   "source": [
    "'''\n",
    "\n",
    "'''"
   ]
  }
 ],
 "metadata": {
  "kernelspec": {
   "display_name": "Python 3",
   "language": "python",
   "name": "python3"
  },
  "language_info": {
   "codemirror_mode": {
    "name": "ipython",
    "version": 3
   },
   "file_extension": ".py",
   "mimetype": "text/x-python",
   "name": "python",
   "nbconvert_exporter": "python",
   "pygments_lexer": "ipython3",
   "version": "3.6.4"
  }
 },
 "nbformat": 4,
 "nbformat_minor": 2
}
